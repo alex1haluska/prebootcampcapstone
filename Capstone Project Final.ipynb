{
 "cells": [
  {
   "cell_type": "markdown",
   "metadata": {},
   "source": [
    "# Data"
   ]
  },
  {
   "cell_type": "markdown",
   "metadata": {},
   "source": [
    "The data being analyzed contains the aggregate stats of individual NBA players from 1950 - 2017. The data was scrapped from Basketball Reference(https://www.basketball-reference.com) and contains players counting statistics (points, steals, block etc.) as well as advanced statistics such as win share and value over replacement.\n",
    "This data will be used to help identify what should be considered an average NBA players, and who a NBA general managers be targeting in free agency to help improve his team. This will be accomplished by answering the following three questions :\n",
    ">1.\tWhat defines an league average NBA player.\n",
    ">2.\tAt what age does an NBA player hit his statistical peak?\n",
    ">3.\tWhich position holds the most value to an NBA team.\n",
    "\n",
    "\n",
    "## center questions - remove the line\n"
   ]
  },
  {
   "cell_type": "code",
   "execution_count": 2,
   "metadata": {},
   "outputs": [],
   "source": [
    "import numpy as np\n",
    "import pandas as pd\n",
    "import matplotlib.pyplot as plt\n",
    "import statistics\n",
    "import scipy.stats as stats\n",
    "%matplotlib inline\n",
    "nba_players= pd.read_csv('Seasons_Stats.csv')"
   ]
  },
  {
   "cell_type": "markdown",
   "metadata": {},
   "source": [
    "# 1) Defining a League Average Player"
   ]
  },
  {
   "cell_type": "markdown",
   "metadata": {},
   "source": [
    "In order to compare players, we will be looking at five statistics:  \n",
    "- Points\n",
    "- Rebounds\n",
    "- Assist\n",
    "- Steals\n",
    "- Blocks \n",
    "\n",
    "Rather than looking at the accumulative totals per season we will be looking at per game averages. Looking at per game stats is beneficial because it takes into account that the number of games per season has changed over NBA history, players not playing a full season due to injury, or a player sitting on the bench for the majority of the year."
   ]
  },
  {
   "cell_type": "code",
   "execution_count": 13,
   "metadata": {},
   "outputs": [
    {
     "name": "stdout",
     "output_type": "stream",
     "text": [
      "The average NBA player averages 8.31 points per game, 3.73 rebounds per game, 1.89 assists per game, 0.67 steals per game, and 0.41 blocks per game.\n"
     ]
    }
   ],
   "source": [
    "###add per game stats to the data frame\n",
    "\n",
    "nba_players['Points Per Game'] = nba_players['PTS']/nba_players['G']\n",
    "nba_players['Rebounds Per Game'] = nba_players['TRB']/nba_players['G']\n",
    "nba_players['Assist Per Game'] = nba_players['AST']/nba_players['G']\n",
    "nba_players['Steals Per Game'] = nba_players['STL']/nba_players['G']\n",
    "nba_players['Blocks Per Game'] = nba_players['BLK']/nba_players['G']\n",
    "\n",
    "### return average players stats\n",
    "print('The average NBA player averages ' + str(round(np.mean(nba_players['Points Per Game']),2)) + ' points per game, '\n",
    "       + str(round(np.mean(nba_players['Rebounds Per Game']),2)) + ' rebounds per game, '\n",
    "       + str(round(np.mean(nba_players['Assist Per Game']),2)) + ' assists per game, ' \n",
    "       + str(round(np.mean(nba_players['Steals Per Game']),2)) + ' steals per game, and ' \n",
    "       + str(round(np.mean(nba_players['Blocks Per Game']),2)) + ' blocks per game.' )"
   ]
  },
  {
   "cell_type": "markdown",
   "metadata": {},
   "source": [
    "Further investigation of the raw data shows that steals and blocks were not being tracked until the 1978 season. In addition during the 1979 season the NBA introduced a major rule change - implementing the three line. Because steals and blocks were not being accounted for in the early data and the three point line introduced a \"new era of basketball\"- I decide it would be beneficial to only look at data from the 1979 season onwards."
   ]
  },
  {
   "cell_type": "code",
   "execution_count": 4,
   "metadata": {},
   "outputs": [
    {
     "name": "stdout",
     "output_type": "stream",
     "text": [
      "The average NBA player averages 8.07 points per game, 3.48 rebounds per game, 1.85 assists per game, 0.66 steals per game, and 0.41 blocks per game. \n"
     ]
    }
   ],
   "source": [
    "### create new data frame only looking at year 1979 and beyond\n",
    "nba_players_modern_era = nba_players.loc[lambda df: nba_players['Year'] >= 1979,:]\n",
    "\n",
    "## return modern era averages\n",
    "print('The average NBA player averages ' + str(round(np.mean(nba_players_modern_era['Points Per Game']),2)) + ' points per game, ' \n",
    "    + str(round(np.mean(nba_players_modern_era['Rebounds Per Game']),2)) + ' rebounds per game, ' \n",
    "    + str(round(np.mean(nba_players_modern_era['Assist Per Game']),2)) + ' assists per game, ' \n",
    "    + str(round(np.mean(nba_players_modern_era['Steals Per Game']),2)) + ' steals per game, and ' \n",
    "    + str(round(np.mean(nba_players_modern_era['Blocks Per Game']),2)) + ' blocks per game. ') "
   ]
  },
  {
   "cell_type": "markdown",
   "metadata": {},
   "source": [
    "It is interesting to note that despite the introduction of a shot that is worth 1.5 x more points, the scoring average of NBA players saw a decrease when comparing the data from 1979 - 2017 and 1950 - 2017."
   ]
  },
  {
   "cell_type": "code",
   "execution_count": 14,
   "metadata": {},
   "outputs": [
    {
     "data": {
      "image/png": "[encoded data removed]",
      "text/plain": [
       "<Figure size 720x360 with 5 Axes>"
      ]
     },
     "metadata": {},
     "output_type": "display_data"
    }
   ],
   "source": [
    "### plot out per game stats\n",
    "\n",
    "### points per game\n",
    "plt.figure(figsize=(10, 5))\n",
    "plt.subplot(2, 3, 1)\n",
    "plt.hist(nba_players_modern_era['Points Per Game'])\n",
    "plt.xlabel('Points')\n",
    "plt.axvline(np.mean(nba_players_modern_era['Points Per Game']),color='r')\n",
    "plt.title('Points Per Game')\n",
    "\n",
    "### rebounds per game\n",
    "plt.subplot(2, 3, 2)\n",
    "plt.hist(nba_players_modern_era['Rebounds Per Game'])\n",
    "plt.xlabel('Rebounds')\n",
    "plt.axvline(np.mean(nba_players_modern_era['Rebounds Per Game']),color='r')\n",
    "plt.title('Rebounds Per Game')\n",
    "\n",
    "### assist per game\n",
    "plt.subplot(2, 3, 3)\n",
    "plt.hist(nba_players_modern_era['Assist Per Game'])\n",
    "plt.xlabel('Assist')\n",
    "plt.axvline(np.mean(nba_players_modern_era['Assist Per Game']),color='r')\n",
    "plt.title('Assist Per Game')\n",
    "\n",
    "### steals per game\n",
    "plt.subplot(2, 3, 4)\n",
    "plt.hist(nba_players_modern_era['Steals Per Game'])\n",
    "plt.xlabel('Steals Per Game')\n",
    "plt.axvline(np.mean(nba_players_modern_era['Steals Per Game']),color='r')\n",
    "plt.title('Steals')\n",
    "\n",
    "###blocks per game\n",
    "plt.subplot(2, 3, 5)\n",
    "plt.hist(nba_players_modern_era['Blocks Per Game'])\n",
    "plt.xlabel('Blocks')\n",
    "plt.axvline(np.mean(nba_players_modern_era['Blocks Per Game']),color='r')\n",
    "plt.title('Blocks Per Game')\n",
    "\n",
    "\n",
    "plt.tight_layout()\n",
    "plt.show()"
   ]
  },
  {
   "cell_type": "markdown",
   "metadata": {},
   "source": [
    "Once the averages were established,  I plotted out histograms of  the per game averages. Each Histogram showa that none of the variables have a normal distribution. Is fact, most players fall slightly under the average. These histograms suggest that many players excel at one or more areas of the game, but  few excel at all. In order to get a better understanding of a league average player's contributions to a team, a system is needed to look at the accumulative statistics a player compiles per game.\n",
    "\n",
    "To try and simplify the data and look at a players total contributions, I adapted a the following scoring system where each statistic was given a weighted value. Rather than try and create a weighting system on my own, I have adapted the following system from the daily fantasy website Draft Kings. Draft Kings assigns Fantasy Points to each statistic as follows :  "
   ]
  },
  {
   "cell_type": "markdown",
   "metadata": {},
   "source": [
    "-  Point: 1 FTP \n",
    "-  Rebound: 1.25 FTP\n",
    "-  Assist: 1.5 FTP\n",
    "-  Steal: 2 FTP\n",
    "-  Block: 2 FTP\n",
    "## come back and center\n"
   ]
  },
  {
   "cell_type": "code",
   "execution_count": 6,
   "metadata": {},
   "outputs": [
    {
     "name": "stdout",
     "output_type": "stream",
     "text": [
      "The average NBA player contributes 17.29 Fantasy Points per game\n"
     ]
    },
    {
     "data": {
      "image/png": "[encoded data removed]",
      "text/plain": [
       "<Figure size 432x288 with 1 Axes>"
      ]
     },
     "metadata": {},
     "output_type": "display_data"
    }
   ],
   "source": [
    "### calculate overall contribution \n",
    "nba_players['overall_contribution'] = (\n",
    "    (nba_players['PTS']/nba_players['G']*1)+\n",
    "    (nba_players['TRB']/nba_players['G']*1.25)+\n",
    "    (nba_players['AST']/nba_players['G']*1.5)+\n",
    "    (nba_players['STL']/nba_players['G']*2)+\n",
    "    (nba_players['BLK']/nba_players['G']*2))\n",
    "\n",
    "##return and plot average players contributions\n",
    "nba_players_modern_era = nba_players.loc[lambda df: nba_players['Year'] > 1979,:]\n",
    "print('The average NBA player contributes ' + str(round(np.mean(nba_players_modern_era['overall_contribution']),2)) + ' Fantasy Points per game' )\n",
    "plt.hist(nba_players_modern_era['overall_contribution'])\n",
    "plt.axvline(np.mean(nba_players_modern_era['overall_contribution']),color='r')\n",
    "plt.title('Players Overall Contribution')\n",
    "plt.xlabel('Fantasy Points Per Game')\n",
    "plt.show()"
   ]
  },
  {
   "cell_type": "markdown",
   "metadata": {},
   "source": [
    "By grouping a players value in terms of fantasy stats - we can get an much better idea of what an average players impact \n",
    "on a game should be. We can conclued that a league average NBA player should contribute 17.29 Fantasy Points per game. The graph also shows that truely elite players are far more valuable than a league average player"
   ]
  },
  {
   "cell_type": "markdown",
   "metadata": {},
   "source": [
    "# 2)  What age does an NBA player hit his statistical peak?"
   ]
  },
  {
   "cell_type": "markdown",
   "metadata": {},
   "source": [
    "In addition to understanding what an average players contribution to a game is, it would be ideal for teams to understand at what age is a players value at its highest and when they should expect to see a significant decline in a players production. "
   ]
  },
  {
   "cell_type": "code",
   "execution_count": 11,
   "metadata": {},
   "outputs": [
    {
     "data": {
      "image/png": "[encoded data removed]",
      "text/plain": [
       "<Figure size 432x288 with 1 Axes>"
      ]
     },
     "metadata": {},
     "output_type": "display_data"
    }
   ],
   "source": [
    "### group by age\n",
    "nba_age=nba_players_modern_era.groupby('Age')['overall_contribution'].mean()\n",
    "\n",
    "### plot overall contribution by age\n",
    "z= np.mean(nba_players_modern_era['overall_contribution'])\n",
    "plt.axhline(z,color='r',label = 'Average FTP')\n",
    "plt.plot(nba_age,label = '')\n",
    "plt.ylabel('Fantasy Points Per Game')\n",
    "plt.xlabel('Age')\n",
    "plt.legend()\n",
    "plt.show()\n"
   ]
  },
  {
   "cell_type": "markdown",
   "metadata": {},
   "source": [
    "The graph shows us that players peak years are from 25-32, as these are the years they are most likely to produce above league average FTPG. After 32 they see a steady drop off year over year until age 41 where they see an major drop off. This data suggest that a team should target players at age 24/25 on five year contracts as they will likely see the players peak performance during these years. "
   ]
  },
  {
   "cell_type": "markdown",
   "metadata": {},
   "source": [
    "# Most Valuable Position in NBA ?"
   ]
  },
  {
   "cell_type": "markdown",
   "metadata": {},
   "source": [
    "In order to determine value by position - I will take a look at win shares. Basketball Reference describes Win Shares as follows:\n",
    "\n",
    ">Win Shares is a player statistic which attempts to divvy up credit for team success to the individuals on the team. Full details are available below, but the important things to note are that it is calculated using player, team and league-wide statistics and the sum of player win shares on a given team will be roughly equal to that team’s win total for the season.Win Shares is a player statistic which attempts to divvy up credit for team success to the individuals on the team. Full details are available below, but the important things to note are that it is calculated using player, team and league-wide statistics and the sum of player win shares on a given team will be roughly equal to that team’s win total for the season.\n",
    "\n",
    "\n",
    "###do I need a foot note###"
   ]
  },
  {
   "cell_type": "markdown",
   "metadata": {},
   "source": [
    "I have chosen to look at win shares by the standard three positions Guard, Forward and Center. If a player is listed as multiple positioned I will include them in both categories as it is impossible to determine how much playing time each player was receiving at each position without further analysis. In addition,the move to \"position less\" basketball, has made it so that determining what exact position the player is occupying on the court at a given time is not always clear."
   ]
  },
  {
   "cell_type": "code",
   "execution_count": 15,
   "metadata": {},
   "outputs": [
    {
     "data": {
      "image/png": "[encoded data removed]",
      "text/plain": [
       "<Figure size 432x288 with 1 Axes>"
      ]
     },
     "metadata": {},
     "output_type": "display_data"
    },
    {
     "name": "stdout",
     "output_type": "stream",
     "text": [
      "The average WS for a guard is 2.3\n",
      "The average WS for a foward is 2.5\n",
      "The average WS for a center is 2.41\n"
     ]
    },
    {
     "data": {
      "text/plain": [
       "F_onewayResult(statistic=2.6656153454900293, pvalue=0.06958949460386399)"
      ]
     },
     "execution_count": 15,
     "metadata": {},
     "output_type": "execute_result"
    }
   ],
   "source": [
    "### create the guard data frame\n",
    "nba_players_wp =nba_players.loc[lambda df: nba_players['Year']>= 1979,:]\n",
    "guard=nba_players_wp.fillna('-')\n",
    "guard.loc[guard['Pos'].str.contains('G',case=False),'Pos'] = 'Guard'\n",
    "guard=guard.loc[lambda df:guard['Pos']== 'Guard',:]\n",
    "guard_ws = np.random.choice(guard['WS'], 5000, replace=True)\n",
    "\n",
    "### create a forward data frame\n",
    "forward=nba_players_wp.fillna('-')\n",
    "forward.loc[forward['Pos'].str.contains('F',case=False),'Pos'] = 'Forward'\n",
    "forward=forward.loc[lambda df:forward['Pos']== 'Forward',:]\n",
    "forward_ws = np.random.choice(forward['WS'], 5000, replace=True)\n",
    "\n",
    "\n",
    "### create a center data frame\n",
    "center=nba_players_wp.fillna('-')\n",
    "center.loc[center['Pos'].str.contains('C',case=False),'Pos'] = 'Center'\n",
    "center=center.loc[lambda df:center['Pos']== 'Center',:]\n",
    "center_ws = np.random.choice(center['WS'], 5000, replace=True)\n",
    "\n",
    "### plot histogram by position\n",
    "plt.hist(guard_ws,alpha=0.5,color = 'g', label='Guard')\n",
    "plt.hist(forward_ws, alpha=0.5, color = 'b', label = 'Forward')\n",
    "plt.hist(center_ws,alpha=0.5, color ='r', label = 'Center')\n",
    "plt.xlabel('Win Shares')\n",
    "plt.title('Win Shares By Position')\n",
    "plt.ylabel('Players')\n",
    "plt.legend(loc='upper right') \n",
    "plt.show()\n",
    "\n",
    "##suggestions on color scheme?\n",
    "print('The average WS for a guard is '+ str(round(np.mean(guard['WS']),2)))\n",
    "print('The average WS for a foward is '+ str(round(np.mean(forward['WS']),2)))\n",
    "print('The average WS for a center is '+ str(round(np.mean(center['WS']),2)))\n",
    "\n",
    "stats.f_oneway(guard_ws, forward_ws, center_ws)"
   ]
  },
  {
   "cell_type": "markdown",
   "metadata": {},
   "source": [
    "By conducting a T test and examining the histogram both show that the win shares by position are not signifigantly diffrent from each other. \n",
    "\n",
    "The data shows that forwards are the most valuable to a team in terms of win shares, followed by centers and finally guards. "
   ]
  },
  {
   "cell_type": "markdown",
   "metadata": {},
   "source": [
    "# Conclusion"
   ]
  },
  {
   "cell_type": "markdown",
   "metadata": {},
   "source": [
    "After examining the data we can conclude that : \n",
    "- The average NBA player contributes 17.29 fantasy points per game.\n",
    "- An NBA player will likely hit his peak at age 30, and have a steady decline from age thirty onward.\n",
    "- The most valuable position in the NBA is the forward, followed by the center and then finally  the guard.\n"
   ]
  },
  {
   "cell_type": "markdown",
   "metadata": {},
   "source": [
    "While people constructing basketball teams are obviously going to be aiming for elite talent rather than just finding a player who is league average, having a way to evaluate how much a player is going to contribute to your teams success and at what age that players contributions to will begin to fall off is key to building a successful team. Especially with the salary cap rules in place, if a team is able to find above league average players who are entering the prime years of their career to supplement super star elite players, they are much more likely to find success. A general manager should also focus more of his attention on the forward position, as that position has the highest value to his team. "
   ]
  },
  {
   "cell_type": "markdown",
   "metadata": {},
   "source": [
    "# Additional Research"
   ]
  },
  {
   "cell_type": "markdown",
   "metadata": {},
   "source": [
    "The Data shows that through NBA history that Guards have been the least valuable position on a team in terms of win share. Further analysis should be conducted to take win share statistics of championship teams to compare to those of non-championship teams to see if this holds true. Do teams who win the championship have a shared make up that is different from the league average? \n",
    "\n",
    "Research should also be conducted to see if this this win share value is projected to change? The NBA seems to have an increasing amount of guard talent and less and less centers. How has the value of guards changed over time and is it possible to project if a guards value will surpass that of centers or forwards in the near future. If the league is changing, key decision makers need to project these changes and try and get ahead of the curve rather than continue to do what worked 10 years ago. \n"
   ]
  },
  {
   "cell_type": "code",
   "execution_count": null,
   "metadata": {},
   "outputs": [],
   "source": []
  }
 ],
 "metadata": {
  "kernelspec": {
   "display_name": "Python 3",
   "language": "python",
   "name": "python3"
  },
  "language_info": {
   "codemirror_mode": {
    "name": "ipython",
    "version": 3
   },
   "file_extension": ".py",
   "mimetype": "text/x-python",
   "name": "python",
   "nbconvert_exporter": "python",
   "pygments_lexer": "ipython3",
   "version": "3.6.5"
  }
 },
 "nbformat": 4,
 "nbformat_minor": 2
}
